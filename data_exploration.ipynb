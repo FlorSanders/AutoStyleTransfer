{
 "cells": [
  {
   "cell_type": "markdown",
   "metadata": {},
   "source": [
    "# Data Exploration\n",
    "\n",
    "Explore the preprocessed data (see [data_preprocessing](./data_preprocessing.ipynb)) in its raw form and for some of its feature transforms."
   ]
  },
  {
   "cell_type": "code",
   "execution_count": null,
   "metadata": {},
   "outputs": [],
   "source": [
    "# Autoreloading makes development easier\n",
    "%load_ext autoreload\n",
    "%autoreload 2"
   ]
  },
  {
   "cell_type": "code",
   "execution_count": null,
   "metadata": {},
   "outputs": [],
   "source": [
    "import os\n",
    "import numpy as np\n",
    "import librosa as lb\n",
    "import matplotlib.pyplot as plt\n",
    "from tools.audio_tools import read_audio, play_audio, write_audio\n",
    "from tools.feature_tools import compute_stft, compute_istft, compute_mels, compute_imels, compute_mfcc, compute_imfcc\n",
    "from tools.constants import cut_classical_path, cut_jazz_path, default_sample_rate\n",
    "from tools.plot_tools import plot_spectral_feature, plot_audio, make_figax"
   ]
  },
  {
   "cell_type": "code",
   "execution_count": null,
   "metadata": {},
   "outputs": [],
   "source": [
    "results_dir = \"./results/DataExploration\"\n",
    "os.makedirs(results_dir, exist_ok=True)\n",
    "epsilon = 1e-6"
   ]
  },
  {
   "cell_type": "code",
   "execution_count": null,
   "metadata": {},
   "outputs": [],
   "source": [
    "# Some constants\n",
    "transform_labels = [\"STFT\", \"MELS\", \"MFCC\"]\n",
    "transform_transforms = [compute_stft, compute_mels, compute_mfcc]\n",
    "transform_inverse_transforms = [compute_istft, compute_imels, compute_imfcc]\n",
    "\n",
    "genre_labels = [\"CLASSICAL\", \"JAZZ\"]\n",
    "genre_paths = [cut_classical_path, cut_jazz_path]\n",
    "\n",
    "fraction = 1/4"
   ]
  },
  {
   "cell_type": "code",
   "execution_count": null,
   "metadata": {},
   "outputs": [],
   "source": [
    "# Explore transform spaces for all genres\n",
    "for genre_label, genre_path in zip(genre_labels, genre_paths):\n",
    "    print(genre_label)\n",
    "\n",
    "    # Pick a random audio track\n",
    "    audio_file = np.random.choice(os.listdir(genre_path))\n",
    "    audio_path = os.path.join(genre_path, audio_file)\n",
    "    audio = read_audio(audio_path)\n",
    "    time = np.linspace(0, len(audio)/default_sample_rate, len(audio))\n",
    "    print(f\"{audio_file = }\")\n",
    "    print(f\"{len(audio) = }\")\n",
    "\n",
    "    # Time domain plot\n",
    "    fig, ax = make_figax()\n",
    "    ax.plot(time, audio)\n",
    "    ax.set_xlabel(\"Time [s]\")\n",
    "    ax.set_ylabel(\"Audio Track\")\n",
    "    ax.set_title(f\"{genre_label} AUDIO TRACK\")\n",
    "    ax.grid()\n",
    "    fig.tight_layout()\n",
    "    fig.savefig(os.path.join(results_dir, f\"{genre_label.lower()}_time.png\"), dpi=300, facecolor=\"white\")\n",
    "    plt.show()\n",
    "\n",
    "    # Play audio\n",
    "    print(f\"{genre_label} PLAYER\")\n",
    "    player = play_audio(audio)\n",
    "    \n",
    "    # Write audio\n",
    "    write_audio(audio, os.path.join(results_dir, f\"{genre_label.lower()}_sample.wav\"))\n",
    "\n",
    "    # Transform to feature spaces and make plots\n",
    "    for transform_label, transform_transform, transform_inverse_transform in zip(transform_labels, transform_transforms, transform_inverse_transforms):\n",
    "        print(transform_label)\n",
    "\n",
    "        # Compute transform\n",
    "        transform = transform_transform(audio)\n",
    "        k = int(transform.size * fraction)\n",
    "        print(f\"{transform.shape = }\")\n",
    "        print(f\"{transform.size = }\")\n",
    "        print(f\"transform element = {np.random.choice(transform.reshape(-1))}\")\n",
    "\n",
    "        # Plot Transform in 2D\n",
    "        fn = lambda x: 20*np.log10(np.abs(x) + np.sqrt(epsilon))\n",
    "        if transform_label == \"MELS\":\n",
    "            fn = lambda x : 10 * np.log10(np.abs(x) + epsilon)\n",
    "        fig, ax = plot_spectral_feature(transform, fn=fn)\n",
    "        ax.set_title(f\"{genre_label} {transform_label}\")\n",
    "        fig.tight_layout()\n",
    "        fig.savefig(os.path.join(results_dir, f\"{genre_label.lower()}_{transform_label.lower()}.png\"), dpi=300, facecolor=\"white\")\n",
    "        plt.show()\n",
    "\n",
    "        # Plot transform coefficient roloff\n",
    "        transform_fn = fn(transform)\n",
    "        transform_magnitudes = np.sort(transform_fn.reshape(-1))[::-1]\n",
    "        fig, ax = make_figax()\n",
    "        ax.plot(transform_magnitudes)\n",
    "        ax.set_xlabel(\"Transform coefficient\")\n",
    "        ax.set_ylabel(\"Transform magnitude [dB]\")\n",
    "        ax.set_title(f\"{genre_label} {transform_label} COEFFICIENTS\")\n",
    "        ax.grid()\n",
    "        fig.tight_layout()\n",
    "        fig.savefig(os.path.join(results_dir, f\"{genre_label.lower()}_{transform_label.lower()}_coefficients.png\"), dpi=300, facecolor=\"white\")\n",
    "        plt.show()\n",
    "        \n",
    "        # Plot transform singular values\n",
    "        print(f\"{len(transform.shape) = }\") \n",
    "        singular_values = np.linalg.svd(transform, full_matrices=True, compute_uv=False, hermitian=False)\n",
    "        fig, ax = make_figax()\n",
    "        ax.plot(fn(np.sort(singular_values))[::-1])\n",
    "        ax.set_xlabel(r\"i\")\n",
    "        ax.set_ylabel(\"Singular Value $\\sigma_i$ [dB]\")\n",
    "        ax.set_title(f\"{genre_label} {transform_label} SINGULAR VALUES\")\n",
    "        ax.grid()\n",
    "        fig.tight_layout()\n",
    "        fig.savefig(os.path.join(results_dir, f\"{genre_label.lower()}_{transform_label.lower()}_singular_values.png\"), dpi=300, facecolor=\"white\")\n",
    "        plt.show()\n",
    "\n",
    "        # Transform reconstruct & play\n",
    "        print(f\"INVERSE {transform_label} - {genre_label}\")\n",
    "        inverse = transform_inverse_transform(transform)\n",
    "        play_audio(inverse)\n",
    "        write_audio(audio, os.path.join(results_dir, f\"{genre_label.lower()}_{transform_label.lower()}_inverse.wav\"))\n",
    "\n",
    "        # Transform reconstruct from top k & play\n",
    "        print(f\"INVERSE {transform_label} - {genre_label} - TOP K\")\n",
    "        print(f\"Reconstructing from 1/{1/fraction:.2f} of the samples: {k = }\")\n",
    "        transform[transform_fn <= transform_magnitudes[k]] = 0.\n",
    "        inverse = transform_inverse_transform(transform)\n",
    "        play_audio(inverse)\n",
    "        write_audio(audio, os.path.join(results_dir, f\"{genre_label.lower()}_{transform_label.lower()}_compressed_inverse.wav\"))"
   ]
  },
  {
   "cell_type": "code",
   "execution_count": null,
   "metadata": {},
   "outputs": [],
   "source": []
  },
  {
   "cell_type": "code",
   "execution_count": null,
   "metadata": {},
   "outputs": [],
   "source": []
  }
 ],
 "metadata": {
  "kernelspec": {
   "display_name": "Python 3",
   "language": "python",
   "name": "python3"
  },
  "language_info": {
   "codemirror_mode": {
    "name": "ipython",
    "version": 3
   },
   "file_extension": ".py",
   "mimetype": "text/x-python",
   "name": "python",
   "nbconvert_exporter": "python",
   "pygments_lexer": "ipython3",
   "version": "3.10.12"
  }
 },
 "nbformat": 4,
 "nbformat_minor": 2
}
