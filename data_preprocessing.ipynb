{
 "cells": [
  {
   "cell_type": "markdown",
   "metadata": {},
   "source": [
    "# Data Preprocessing\n",
    "\n",
    "1. Read the raw audio files\n",
    "2. Equalize their volume\n",
    "3. Cut them into segments of fixed length\n",
    "4. (Optionally) Extract features\n",
    "5. Save to files"
   ]
  },
  {
   "cell_type": "code",
   "execution_count": null,
   "metadata": {},
   "outputs": [],
   "source": [
    "# Autoreloading makes development easier\n",
    "%load_ext autoreload\n",
    "%autoreload 2"
   ]
  },
  {
   "cell_type": "code",
   "execution_count": null,
   "metadata": {},
   "outputs": [],
   "source": [
    "import os\n",
    "import shutil\n",
    "import sys\n",
    "import numpy as np\n",
    "from tools.audio_tools import read_audio, write_audio\n",
    "from tools.constants import raw_classical_path, raw_jazz_path, cut_classical_path, cut_jazz_path, npy_data_path, npy_classical_path, npy_jazz_path, n_secs, default_sample_rate, npy_classical_path, npy_jazz_path\n",
    "from tools.feature_tools import compute_mels, compute_imels"
   ]
  },
  {
   "cell_type": "markdown",
   "metadata": {},
   "source": [
    "The function below cuts the audio file to fixed lengths and (possibly) immediately extracts the features as well."
   ]
  },
  {
   "cell_type": "code",
   "execution_count": null,
   "metadata": {},
   "outputs": [],
   "source": [
    "def cut_audio_file(source_file: str, source_dir: str, target_dir: str, segment_duration: int = n_secs, target_loudness: float = -20, sr=default_sample_rate, force_power_of_2 = True, to_npy=True):\n",
    "  # File name & path\n",
    "  file_name, file_ext = os.path.splitext(source_file)\n",
    "  source_path = os.path.join(source_dir, source_file)\n",
    "  extension = \"npy\" if to_npy else \"wav\"\n",
    "  if os.path.exists(os.path.join(target_dir, f\"{file_name}_0.{extension}\")):\n",
    "    print(f\"File already processed: {source_file}\")\n",
    "    return 0\n",
    "  else:\n",
    "    print(f\"Processing file: {source_file}\")\n",
    "\n",
    "  # Read input file (mono @ target_sample_rate)\n",
    "  audio = read_audio(source_path, sr=sr)\n",
    "\n",
    "  # Equalize loudness\n",
    "  current_rms = np.sqrt(np.mean(audio**2))\n",
    "  target_rms = 10**(target_loudness/20)\n",
    "  audio_normalized = audio * target_rms / current_rms\n",
    "\n",
    "  # Compute the number of samples per segment\n",
    "  samples_per_segment = int(sr * segment_duration)\n",
    "  if force_power_of_2:\n",
    "    # Pick the number of samples per segment that is nearest to a power of 2 (better for FFT transforms)\n",
    "    samples_per_segment = 2**round(np.log2(samples_per_segment))\n",
    "  n_segments = int(len(audio_normalized) / samples_per_segment)\n",
    "\n",
    "  # Split into segments & save to file\n",
    "  for i in range(n_segments):\n",
    "    # split segment\n",
    "    segment = audio_normalized[i*samples_per_segment:(i+1)*samples_per_segment]\n",
    "    \n",
    "    if to_npy:\n",
    "      # Compute features\n",
    "      features = compute_mels(segment)\n",
    "      \n",
    "      # construct output path\n",
    "      target_file = f\"{file_name}_{i}.npy\"\n",
    "      target_path = os.path.join(target_dir, target_file)\n",
    "    \n",
    "      # Write output\n",
    "      np.save(target_path, features)\n",
    "    else:\n",
    "      # construct output path\n",
    "      target_file = f\"{file_name}_{i}.wav\"\n",
    "      target_path = os.path.join(target_dir, target_file)\n",
    "\n",
    "      # Write output\n",
    "      write_audio(segment, target_path, sr=sr)\n",
    "\n",
    "  return n_segments"
   ]
  },
  {
   "cell_type": "markdown",
   "metadata": {},
   "source": [
    "The cell below cleans up the preprocessing directory.  \n",
    "Only run if changes need to be made to the preprocessed data."
   ]
  },
  {
   "cell_type": "code",
   "execution_count": null,
   "metadata": {},
   "outputs": [],
   "source": [
    "# Uncomment if you really want to run this\n",
    "assert False, \"Sure you want to run this?\"\n",
    "\n",
    "# Reset preprocessed data\n",
    "if os.path.exists(npy_data_path):\n",
    "  shutil.rmtree(npy_classical_path)\n",
    "  shutil.rmtree(npy_jazz_path)"
   ]
  },
  {
   "cell_type": "markdown",
   "metadata": {},
   "source": [
    "Here, the actual preprocessing is performed.  \n",
    "As the code is now, the audio will be cut and features immediately extracted and saved to disk in npy format."
   ]
  },
  {
   "cell_type": "code",
   "execution_count": null,
   "metadata": {},
   "outputs": [],
   "source": [
    "# Bulk processingg n samples per genre\n",
    "n_samples_per_genre = 5\n",
    "\n",
    "os.makedirs(npy_classical_path, exist_ok=True)\n",
    "os.makedirs(npy_jazz_path, exist_ok=True)\n",
    "raw_paths = [raw_classical_path, raw_jazz_path]\n",
    "cut_paths = [npy_classical_path, npy_jazz_path]\n",
    "for raw_path, cut_path in zip(raw_paths, cut_paths):\n",
    "  # Read files\n",
    "  raw_files = os.listdir(raw_path)\n",
    "\n",
    "  # Process limited files\n",
    "  n_samples = min(n_samples_per_genre, len(raw_files))\n",
    "  raw_files = np.random.choice(raw_files, size=n_samples, replace=False)\n",
    "\n",
    "  for raw_file in raw_files:\n",
    "    n_segments = cut_audio_file(raw_file, raw_path, cut_path, to_npy=True)"
   ]
  },
  {
   "cell_type": "markdown",
   "metadata": {},
   "source": [
    "If the data were saved as cut wave files, the code snipped below allows to further process the files to npy structure.  \n",
    "This is prefered as it considerably speeds up loading of the data"
   ]
  },
  {
   "cell_type": "code",
   "execution_count": null,
   "metadata": {},
   "outputs": [],
   "source": [
    "# Cut data -> NPY Features\n",
    "for cut_dir, npy_dir in zip([cut_classical_path, cut_jazz_path], [npy_classical_path, npy_jazz_path]):\n",
    "    print(f\"Processing {cut_dir}\")\n",
    "    # Make sure npy dir exists\n",
    "    os.makedirs(npy_dir, exist_ok=True)\n",
    "    # Read cut_dir\n",
    "    cut_files = os.listdir(cut_dir)\n",
    "    n_files = len(cut_files)\n",
    "    for i, cut_file in enumerate(cut_files):\n",
    "        # Split file name from extension\n",
    "        file_name, file_ext = os.path.splitext(cut_file)\n",
    "        if file_ext != \".wav\":\n",
    "            print(f\"Warning: skipping file {cut_file}\")\n",
    "            continue\n",
    "        npy_path = os.path.join(npy_dir, f\"{file_name}.npy\")\n",
    "        if os.path.exists(npy_path):\n",
    "            continue\n",
    "        # Read audio & compute mels\n",
    "        audio = read_audio(os.path.join(cut_dir, cut_file))\n",
    "        mels = compute_mels(audio)\n",
    "        np.save(npy_path, mels)\n",
    "\n",
    "        if i % (n_files // 100) == 0:\n",
    "            sys.stdout.write('\\r')\n",
    "            sys.stdout.write(f\"{(i+1) / n_files * 100:.0f} %\")\n",
    "            sys.stdout.flush()\n",
    "    print()"
   ]
  },
  {
   "cell_type": "code",
   "execution_count": null,
   "metadata": {},
   "outputs": [],
   "source": []
  }
 ],
 "metadata": {
  "kernelspec": {
   "display_name": "Python 3",
   "language": "python",
   "name": "python3"
  },
  "language_info": {
   "codemirror_mode": {
    "name": "ipython",
    "version": 3
   },
   "file_extension": ".py",
   "mimetype": "text/x-python",
   "name": "python",
   "nbconvert_exporter": "python",
   "pygments_lexer": "ipython3",
   "version": "3.10.12"
  }
 },
 "nbformat": 4,
 "nbformat_minor": 2
}
