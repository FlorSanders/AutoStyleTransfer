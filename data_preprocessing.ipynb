{
 "cells": [
  {
   "cell_type": "markdown",
   "metadata": {},
   "source": [
    "# Data Preprocessing\n",
    "\n",
    "1. Read the raw audio files\n",
    "2. Equalize their volume\n",
    "3. Cut them into segments of fixed length\n",
    "4. Save to files"
   ]
  },
  {
   "cell_type": "code",
   "execution_count": null,
   "metadata": {},
   "outputs": [],
   "source": [
    "# Autoreloading makes development easier\n",
    "%load_ext autoreload\n",
    "%autoreload 2"
   ]
  },
  {
   "cell_type": "code",
   "execution_count": 6,
   "metadata": {},
   "outputs": [],
   "source": [
    "import os\n",
    "import sys\n",
    "import numpy as np\n",
    "from tools.audio_tools import read_audio, write_audio\n",
    "from tools.constants import raw_classical_path, raw_jazz_path, cut_classical_path, cut_jazz_path, n_secs, default_sample_rate, npy_classical_path, npy_jazz_path\n",
    "from tools.feature_tools import compute_mels, compute_imels"
   ]
  },
  {
   "cell_type": "code",
   "execution_count": 2,
   "metadata": {},
   "outputs": [],
   "source": [
    "def cut_audio_file(source_file: str, source_dir: str, target_dir: str, segment_duration: int = n_secs, target_loudness: float = -20, sr=default_sample_rate, force_power_of_2 = True):\n",
    "  # File name & path\n",
    "  file_name, file_ext = os.path.splitext(source_file)\n",
    "  source_path = os.path.join(source_dir, source_file)\n",
    "  if os.path.exists(os.path.join(target_dir, f\"{file_name}_0.wav\")):\n",
    "    print(f\"File already processed: {source_file}\")\n",
    "  else:\n",
    "    print(f\"Processing file: {source_file}\")\n",
    "\n",
    "  # Read input file (mono @ target_sample_rate)\n",
    "  audio = read_audio(source_path, sr=sr)\n",
    "\n",
    "  # Equalize loudness\n",
    "  current_rms = np.sqrt(np.mean(audio**2))\n",
    "  target_rms = 10**(target_loudness/20)\n",
    "  audio_normalized = audio * target_rms / current_rms\n",
    "\n",
    "  # Compute the number of samples per segment\n",
    "  samples_per_segment = int(sr * segment_duration)\n",
    "  if force_power_of_2:\n",
    "    # Pick the number of samples per segment that is nearest to a power of 2 (better for FFT transforms)\n",
    "    samples_per_segment = 2**round(np.log2(samples_per_segment))\n",
    "  n_segments = int(len(audio_normalized) / samples_per_segment)\n",
    "\n",
    "  # Split into segments & save to file\n",
    "  for i in range(n_segments):\n",
    "    # split segment\n",
    "    segment = audio_normalized[i*samples_per_segment:(i+1)*samples_per_segment]\n",
    "\n",
    "    # construct output path\n",
    "    target_file = f\"{file_name}_{i}.wav\"\n",
    "    target_path = os.path.join(target_dir, target_file)\n",
    "\n",
    "    # Write output\n",
    "    write_audio(segment, target_path, sr=sr)\n",
    "\n",
    "\n",
    "  return n_segments"
   ]
  },
  {
   "cell_type": "code",
   "execution_count": 5,
   "metadata": {},
   "outputs": [
    {
     "ename": "AssertionError",
     "evalue": "Sure you want to run this?",
     "output_type": "error",
     "traceback": [
      "\u001b[0;31m---------------------------------------------------------------------------\u001b[0m",
      "\u001b[0;31mAssertionError\u001b[0m                            Traceback (most recent call last)",
      "Cell \u001b[0;32mIn[5], line 2\u001b[0m\n\u001b[1;32m      1\u001b[0m \u001b[39m# Uncomment if you really want to run this\u001b[39;00m\n\u001b[0;32m----> 2\u001b[0m \u001b[39massert\u001b[39;00m \u001b[39mFalse\u001b[39;00m, \u001b[39m\"\u001b[39m\u001b[39mSure you want to run this?\u001b[39m\u001b[39m\"\u001b[39m\n\u001b[1;32m      4\u001b[0m \u001b[39m# Reset preprocessed data\u001b[39;00m\n\u001b[1;32m      5\u001b[0m \u001b[39mif\u001b[39;00m os\u001b[39m.\u001b[39mpath\u001b[39m.\u001b[39mexists(cut_data_path):\n",
      "\u001b[0;31mAssertionError\u001b[0m: Sure you want to run this?"
     ]
    }
   ],
   "source": [
    "# Uncomment if you really want to run this\n",
    "assert False, \"Sure you want to run this?\"\n",
    "\n",
    "# Reset preprocessed data\n",
    "if os.path.exists(cut_data_path):\n",
    "  shutil.rmtree(cut_classical_path)\n",
    "  shutil.rmtree(cut_jazz_path)"
   ]
  },
  {
   "cell_type": "code",
   "execution_count": 6,
   "metadata": {},
   "outputs": [
    {
     "name": "stdout",
     "output_type": "stream",
     "text": [
      "Processing file: 1727.wav\n",
      "Processing file: 09--Dee_Yan-Key-drive_home.wav\n"
     ]
    }
   ],
   "source": [
    "# Bulk processingg n samples per genre\n",
    "n_samples_per_genre = 1\n",
    "\n",
    "os.makedirs(cut_classical_path, exist_ok=True)\n",
    "os.makedirs(cut_jazz_path, exist_ok=True)\n",
    "raw_paths = [raw_classical_path, raw_jazz_path]\n",
    "cut_paths = [cut_classical_path, cut_jazz_path]\n",
    "for raw_path, cut_path in zip(raw_paths, cut_paths):\n",
    "  # Read files\n",
    "  raw_files = os.listdir(raw_path)\n",
    "\n",
    "  # Process limited files\n",
    "  n_samples = min(n_samples_per_genre, len(raw_files))\n",
    "  raw_files = np.random.choice(raw_files, size=n_samples, replace=False)\n",
    "\n",
    "  for raw_file in raw_files:\n",
    "    n_segments = cut_audio_file(raw_file, raw_path, cut_path)"
   ]
  },
  {
   "cell_type": "code",
   "execution_count": 7,
   "metadata": {},
   "outputs": [
    {
     "name": "stdout",
     "output_type": "stream",
     "text": [
      "Processing ./cut/classical/1s\n",
      "100 %Processing ./cut/jazz/1s\n",
      "100 %"
     ]
    }
   ],
   "source": [
    "# Cut data -> NPY Features\n",
    "for cut_dir, npy_dir in zip([cut_classical_path, cut_jazz_path], [npy_classical_path, npy_jazz_path]):\n",
    "    print(f\"Processing {cut_dir}\")\n",
    "    # Make sure npy dir exists\n",
    "    os.makedirs(npy_dir, exist_ok=True)\n",
    "    # Read cut_dir\n",
    "    cut_files = os.listdir(cut_dir)\n",
    "    n_files = len(cut_files)\n",
    "    for i, cut_file in enumerate(cut_files):\n",
    "        # Split file name from extension\n",
    "        file_name, file_ext = os.path.splitext(cut_file)\n",
    "        if file_ext != \".wav\":\n",
    "            print(f\"Warning: skipping file {cut_file}\")\n",
    "            continue\n",
    "        # Read audio & compute mels\n",
    "        audio = read_audio(os.path.join(cut_dir, cut_file))\n",
    "        mels = compute_mels(audio)\n",
    "        np.save(os.path.join(npy_dir, f\"{file_name}.npy\"), mels)\n",
    "\n",
    "        if i % (n_files // 100) == 0:\n",
    "            sys.stdout.write('\\r')\n",
    "            sys.stdout.write(f\"{(i+1) / n_files * 100:.0f} %\")\n",
    "            sys.stdout.flush()\n",
    "    print()"
   ]
  },
  {
   "cell_type": "code",
   "execution_count": null,
   "metadata": {},
   "outputs": [],
   "source": []
  }
 ],
 "metadata": {
  "kernelspec": {
   "display_name": "Python 3",
   "language": "python",
   "name": "python3"
  },
  "language_info": {
   "codemirror_mode": {
    "name": "ipython",
    "version": 3
   },
   "file_extension": ".py",
   "mimetype": "text/x-python",
   "name": "python",
   "nbconvert_exporter": "python",
   "pygments_lexer": "ipython3",
   "version": "3.10.12"
  },
  "orig_nbformat": 4
 },
 "nbformat": 4,
 "nbformat_minor": 2
}
