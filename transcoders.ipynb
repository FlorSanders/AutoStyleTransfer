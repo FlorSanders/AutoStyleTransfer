{
 "cells": [
  {
   "cell_type": "markdown",
   "metadata": {},
   "source": [
    "# Style Transcoders"
   ]
  },
  {
   "cell_type": "code",
   "execution_count": 2,
   "metadata": {},
   "outputs": [],
   "source": [
    "# Autoreloading makes development easier\n",
    "%load_ext autoreload\n",
    "%autoreload 2"
   ]
  },
  {
   "cell_type": "code",
   "execution_count": 3,
   "metadata": {},
   "outputs": [
    {
     "name": "stderr",
     "output_type": "stream",
     "text": [
      "2023-11-18 15:38:11.724019: I tensorflow/tsl/cuda/cudart_stub.cc:28] Could not find cuda drivers on your machine, GPU will not be used.\n",
      "2023-11-18 15:38:11.762260: E tensorflow/compiler/xla/stream_executor/cuda/cuda_dnn.cc:9342] Unable to register cuDNN factory: Attempting to register factory for plugin cuDNN when one has already been registered\n",
      "2023-11-18 15:38:11.762291: E tensorflow/compiler/xla/stream_executor/cuda/cuda_fft.cc:609] Unable to register cuFFT factory: Attempting to register factory for plugin cuFFT when one has already been registered\n",
      "2023-11-18 15:38:11.762325: E tensorflow/compiler/xla/stream_executor/cuda/cuda_blas.cc:1518] Unable to register cuBLAS factory: Attempting to register factory for plugin cuBLAS when one has already been registered\n",
      "2023-11-18 15:38:11.769791: I tensorflow/tsl/cuda/cudart_stub.cc:28] Could not find cuda drivers on your machine, GPU will not be used.\n",
      "2023-11-18 15:38:11.770691: I tensorflow/core/platform/cpu_feature_guard.cc:182] This TensorFlow binary is optimized to use available CPU instructions in performance-critical operations.\n",
      "To enable the following instructions: AVX2 FMA, in other operations, rebuild TensorFlow with the appropriate compiler flags.\n",
      "2023-11-18 15:38:12.749050: W tensorflow/compiler/tf2tensorrt/utils/py_utils.cc:38] TF-TRT Warning: Could not find TensorRT\n",
      "/home/florsanders/.local/lib/python3.10/site-packages/scipy/__init__.py:146: UserWarning: A NumPy version >=1.16.5 and <1.23.0 is required for this version of SciPy (detected version 1.25.2\n",
      "  warnings.warn(f\"A NumPy version >={np_minversion} and <{np_maxversion}\"\n"
     ]
    }
   ],
   "source": [
    "# Import libraries\n",
    "import os\n",
    "import sys\n",
    "import numpy as np\n",
    "import matplotlib.pyplot as plt\n",
    "import tensorflow as tf\n",
    "import tensorflow.keras as krs\n",
    "import tensorflow_probability as tfp\n",
    "import json\n",
    "from sklearn.model_selection import train_test_split\n",
    "from tools.audio_tools import read_audio, write_audio, play_audio\n",
    "from tools.feature_tools import compute_mels, compute_imels, compute_mfcc, compute_imfcc, load_data, normalize_features, denormalize_features\n",
    "from tools.constants import cut_classical_path, cut_jazz_path, models_path\n",
    "from tools.plot_tools import make_figax, plot_history, plot_audio, plot_spectral_feature\n",
    "from tools.tensorflow_tools import tune_hyperparameters, load_optimal_params"
   ]
  },
  {
   "cell_type": "markdown",
   "metadata": {},
   "source": [
    "## Data Loading"
   ]
  },
  {
   "cell_type": "markdown",
   "metadata": {},
   "source": [
    "### Load Audio & Extract Features"
   ]
  },
  {
   "cell_type": "code",
   "execution_count": 4,
   "metadata": {},
   "outputs": [
    {
     "name": "stdout",
     "output_type": "stream",
     "text": [
      "100 %\n",
      "100 %\n",
      "X_c_raw.shape = (418, 67, 128, 1)\n",
      "X_j_raw.shape = (418, 67, 128, 1)\n"
     ]
    }
   ],
   "source": [
    "n_samples = 5000\n",
    "n_samples = min(n_samples, len(os.listdir(cut_classical_path)), len(os.listdir(cut_jazz_path)))\n",
    "\n",
    "X_c_raw = load_data(cut_classical_path, n_samples=n_samples)\n",
    "X_j_raw = load_data(cut_jazz_path, n_samples=n_samples)\n",
    "\n",
    "print(f\"{X_c_raw.shape = }\")\n",
    "print(f\"{X_j_raw.shape = }\")"
   ]
  },
  {
   "cell_type": "markdown",
   "metadata": {},
   "source": [
    "### Train - Validation - Test Split"
   ]
  },
  {
   "cell_type": "code",
   "execution_count": 5,
   "metadata": {},
   "outputs": [
    {
     "name": "stdout",
     "output_type": "stream",
     "text": [
      "X_c_raw_train.shape = (334, 67, 128, 1)\n",
      "X_c_raw_test.shape = (42, 67, 128, 1)\n",
      "X_c_raw_val.shape = (42, 67, 128, 1)\n",
      "X_j_raw_train.shape = (334, 67, 128, 1)\n",
      "X_j_raw_test.shape = (42, 67, 128, 1)\n",
      "X_j_raw_val.shape = (42, 67, 128, 1)\n"
     ]
    }
   ],
   "source": [
    "# Fraction of data to keep apart for validation\n",
    "test_size = round(0.1 * n_samples)\n",
    "val_size = test_size\n",
    "# Perform splits\n",
    "X_c_raw_train, X_c_raw_test = train_test_split(X_c_raw, test_size=test_size)\n",
    "X_c_raw_train, X_c_raw_val = train_test_split(X_c_raw_train, test_size=val_size)\n",
    "X_j_raw_train, X_j_raw_test = train_test_split(X_j_raw, test_size=test_size)\n",
    "X_j_raw_train, X_j_raw_val = train_test_split(X_j_raw_train, test_size=val_size)\n",
    "# Verify split shapes\n",
    "print(f\"{X_c_raw_train.shape = }\")\n",
    "print(f\"{X_c_raw_test.shape = }\")\n",
    "print(f\"{X_c_raw_val.shape = }\")\n",
    "print(f\"{X_j_raw_train.shape = }\")\n",
    "print(f\"{X_j_raw_test.shape = }\")\n",
    "print(f\"{X_j_raw_val.shape = }\")"
   ]
  },
  {
   "cell_type": "markdown",
   "metadata": {},
   "source": [
    "### Normalize Features"
   ]
  },
  {
   "cell_type": "code",
   "execution_count": 6,
   "metadata": {},
   "outputs": [
    {
     "name": "stdout",
     "output_type": "stream",
     "text": [
      "(334, 67, 128, 1)\n",
      "(42, 67, 128, 1)\n",
      "(42, 67, 128, 1)\n",
      "(334, 67, 128, 1)\n",
      "(42, 67, 128, 1)\n",
      "(42, 67, 128, 1)\n"
     ]
    }
   ],
   "source": [
    "# Perform normalization\n",
    "X_c_train, X_c_val, X_c_test = normalize_features(X_c_raw_train, X_raw_val=X_c_raw_val, X_raw_test=X_c_raw_test, name=\"classical\")\n",
    "X_j_train, X_j_val, X_j_test = normalize_features(X_j_raw_train, X_raw_val=X_j_raw_val, X_raw_test=X_j_raw_test, name=\"jazz\")\n",
    "\n",
    "print(f\"{X_c_train.shape }\")\n",
    "print(f\"{X_c_val.shape }\")\n",
    "print(f\"{X_c_test.shape }\")\n",
    "print(f\"{X_j_train.shape }\")\n",
    "print(f\"{X_j_val.shape }\")\n",
    "print(f\"{X_j_test.shape }\")"
   ]
  },
  {
   "cell_type": "code",
   "execution_count": 7,
   "metadata": {},
   "outputs": [
    {
     "name": "stdout",
     "output_type": "stream",
     "text": [
      "input_shape = (67, 128, 1)\n"
     ]
    }
   ],
   "source": [
    "input_shape = X_c_train.shape[1:]\n",
    "\n",
    "print(f\"{input_shape = }\")"
   ]
  },
  {
   "cell_type": "markdown",
   "metadata": {},
   "source": [
    "## Style Transfer Models"
   ]
  },
  {
   "cell_type": "markdown",
   "metadata": {},
   "source": [
    "### Test Script"
   ]
  },
  {
   "cell_type": "code",
   "execution_count": null,
   "metadata": {},
   "outputs": [],
   "source": [
    "# TODO: Develop style transfer test script"
   ]
  },
  {
   "cell_type": "code",
   "execution_count": null,
   "metadata": {},
   "outputs": [],
   "source": []
  },
  {
   "cell_type": "markdown",
   "metadata": {},
   "source": [
    "### Convolutional Style Transfer"
   ]
  },
  {
   "cell_type": "code",
   "execution_count": 9,
   "metadata": {},
   "outputs": [],
   "source": [
    "from models.transcoders import Conv2DTranscoder"
   ]
  },
  {
   "cell_type": "code",
   "execution_count": 42,
   "metadata": {},
   "outputs": [],
   "source": [
    "default_params = {\n",
    "    \"feature_shape\": input_shape,\n",
    "    \"compression\": 8,\n",
    "    \"kernel_size\": 3,\n",
    "    \"conv_depth\": 1,\n",
    "    \"input_chans_multiplier\": 1,\n",
    "    \"skip_connection\": False,\n",
    "    \"pooling_type\": \"average\",\n",
    "    \"h_reg\": 1e-3,\n",
    "    \"kl_reg\": 1e-6,\n",
    "}"
   ]
  },
  {
   "cell_type": "code",
   "execution_count": 44,
   "metadata": {},
   "outputs": [
    {
     "name": "stdout",
     "output_type": "stream",
     "text": [
      "11/11 [==============================] - 9s 244ms/step - loss: 0.7870 - r_loss: 0.7773 - h_loss: 1.3908 - kl_loss: 8245.1572 - val_loss: 0.5172 - val_r_loss: 0.5161 - val_h_loss: 0.9736 - val_kl_loss: 82.8644\n"
     ]
    }
   ],
   "source": [
    "# Test training\n",
    "transcoder = Conv2DTranscoder(**default_params)\n",
    "transcoder.compile(optimizer=\"adam\")\n",
    "history = transcoder.fit(X_c_train, X_j_train, epochs=1, shuffle=True, validation_data=(X_c_val, X_j_val), verbose=1)"
   ]
  },
  {
   "cell_type": "code",
   "execution_count": 45,
   "metadata": {},
   "outputs": [],
   "source": [
    "# Hyperparameter tuning\n",
    "results_path = os.path.join(\"./results/Conv2DTranscoder\")\n",
    "os.makedirs(results_path, exist_ok=True)\n",
    "keys = np.array([\n",
    "    \"input_chans_multiplier\",\n",
    "    \"conv_depth\",\n",
    "    \"kernel_size\",\n",
    "    \"pooling_type\",\n",
    "    \"h_reg\",\n",
    "    \"kl_reg\",\n",
    "])\n",
    "vals = np.array([\n",
    "    [1, 2, 4],\n",
    "    [1, 2, 3],\n",
    "    [3, 5],\n",
    "    [\"max\", \"average\"],\n",
    "    [1, 1e-1, 1e-2, 1e-3],\n",
    "    [1e-4, 1e-5, 1e-6, 1e-7, 1e-8],\n",
    "], dtype=\"object\")\n",
    "loss_key = \"val_r_loss\"\n",
    "epochs = 250\n",
    "passes = 1"
   ]
  },
  {
   "cell_type": "code",
   "execution_count": 49,
   "metadata": {},
   "outputs": [
    {
     "name": "stdout",
     "output_type": "stream",
     "text": [
      "Optimizing for default parameters\n"
     ]
    },
    {
     "ename": "KeyboardInterrupt",
     "evalue": "",
     "output_type": "error",
     "traceback": [
      "\u001b[0;31m---------------------------------------------------------------------------\u001b[0m",
      "\u001b[0;31mKeyboardInterrupt\u001b[0m                         Traceback (most recent call last)",
      "Cell \u001b[0;32mIn[49], line 2\u001b[0m\n\u001b[1;32m      1\u001b[0m \u001b[39m# Random optimization\u001b[39;00m\n\u001b[0;32m----> 2\u001b[0m optimal_params, optimal_loss \u001b[39m=\u001b[39m tune_hyperparameters(\n\u001b[1;32m      3\u001b[0m     X_c_train,\n\u001b[1;32m      4\u001b[0m     X_j_train,\n\u001b[1;32m      5\u001b[0m     Conv2DTranscoder,\n\u001b[1;32m      6\u001b[0m     default_params,\n\u001b[1;32m      7\u001b[0m     keys,\n\u001b[1;32m      8\u001b[0m     vals,\n\u001b[1;32m      9\u001b[0m     loss_key,\n\u001b[1;32m     10\u001b[0m     X_val\u001b[39m=\u001b[39;49mX_c_val,\n\u001b[1;32m     11\u001b[0m     y_val\u001b[39m=\u001b[39;49mX_j_val,\n\u001b[1;32m     12\u001b[0m     results_path\u001b[39m=\u001b[39;49mresults_path,\n\u001b[1;32m     13\u001b[0m     epochs\u001b[39m=\u001b[39;49mepochs,\n\u001b[1;32m     14\u001b[0m     verbose\u001b[39m=\u001b[39;49m\u001b[39mFalse\u001b[39;49;00m,\n\u001b[1;32m     15\u001b[0m     do_random\u001b[39m=\u001b[39;49m\u001b[39mTrue\u001b[39;49;00m,\n\u001b[1;32m     16\u001b[0m     random_attempts\u001b[39m=\u001b[39;49m\u001b[39m25\u001b[39;49m,\n\u001b[1;32m     17\u001b[0m )\n",
      "File \u001b[0;32m~/Code/columbia_university/sparse_models_for_high_d_data/Project/tools/tensorflow_tools.py:119\u001b[0m, in \u001b[0;36mtune_hyperparameters\u001b[0;34m(X, y, create_model, default_params, param_keys, param_ranges, loss_key, results_path, X_val, y_val, epochs, compile_kwargs, verbose, do_random, random_attempts)\u001b[0m\n\u001b[1;32m    117\u001b[0m validation_data \u001b[39m=\u001b[39m (X_val, y_val) \u001b[39mif\u001b[39;00m X_val \u001b[39mis\u001b[39;00m \u001b[39mnot\u001b[39;00m \u001b[39mNone\u001b[39;00m \u001b[39mand\u001b[39;00m y_val \u001b[39mis\u001b[39;00m \u001b[39mnot\u001b[39;00m \u001b[39mNone\u001b[39;00m \u001b[39melse\u001b[39;00m \u001b[39mNone\u001b[39;00m\n\u001b[1;32m    118\u001b[0m earlystopping \u001b[39m=\u001b[39m krs\u001b[39m.\u001b[39mcallbacks\u001b[39m.\u001b[39mEarlyStopping(monitor\u001b[39m=\u001b[39mloss_key, patience\u001b[39m=\u001b[39m\u001b[39m3\u001b[39m, min_delta\u001b[39m=\u001b[39m\u001b[39m1e-5\u001b[39m)\n\u001b[0;32m--> 119\u001b[0m history \u001b[39m=\u001b[39m instance\u001b[39m.\u001b[39;49mfit(\n\u001b[1;32m    120\u001b[0m     X, \n\u001b[1;32m    121\u001b[0m     y, \n\u001b[1;32m    122\u001b[0m     epochs\u001b[39m=\u001b[39;49mepochs, \n\u001b[1;32m    123\u001b[0m     shuffle\u001b[39m=\u001b[39;49m\u001b[39mTrue\u001b[39;49;00m, \n\u001b[1;32m    124\u001b[0m     callbacks\u001b[39m=\u001b[39;49m[earlystopping], \n\u001b[1;32m    125\u001b[0m     validation_data\u001b[39m=\u001b[39;49mvalidation_data, \n\u001b[1;32m    126\u001b[0m     verbose\u001b[39m=\u001b[39;49mverbose\n\u001b[1;32m    127\u001b[0m )\n\u001b[1;32m    129\u001b[0m \u001b[39m# Get results\u001b[39;00m\n\u001b[1;32m    130\u001b[0m history \u001b[39m=\u001b[39m history\u001b[39m.\u001b[39mhistory\n",
      "File \u001b[0;32m~/.local/lib/python3.10/site-packages/keras/src/utils/traceback_utils.py:65\u001b[0m, in \u001b[0;36mfilter_traceback.<locals>.error_handler\u001b[0;34m(*args, **kwargs)\u001b[0m\n\u001b[1;32m     63\u001b[0m filtered_tb \u001b[39m=\u001b[39m \u001b[39mNone\u001b[39;00m\n\u001b[1;32m     64\u001b[0m \u001b[39mtry\u001b[39;00m:\n\u001b[0;32m---> 65\u001b[0m     \u001b[39mreturn\u001b[39;00m fn(\u001b[39m*\u001b[39;49margs, \u001b[39m*\u001b[39;49m\u001b[39m*\u001b[39;49mkwargs)\n\u001b[1;32m     66\u001b[0m \u001b[39mexcept\u001b[39;00m \u001b[39mException\u001b[39;00m \u001b[39mas\u001b[39;00m e:\n\u001b[1;32m     67\u001b[0m     filtered_tb \u001b[39m=\u001b[39m _process_traceback_frames(e\u001b[39m.\u001b[39m__traceback__)\n",
      "File \u001b[0;32m~/.local/lib/python3.10/site-packages/keras/src/engine/training.py:1783\u001b[0m, in \u001b[0;36mModel.fit\u001b[0;34m(self, x, y, batch_size, epochs, verbose, callbacks, validation_split, validation_data, shuffle, class_weight, sample_weight, initial_epoch, steps_per_epoch, validation_steps, validation_batch_size, validation_freq, max_queue_size, workers, use_multiprocessing)\u001b[0m\n\u001b[1;32m   1775\u001b[0m \u001b[39mwith\u001b[39;00m tf\u001b[39m.\u001b[39mprofiler\u001b[39m.\u001b[39mexperimental\u001b[39m.\u001b[39mTrace(\n\u001b[1;32m   1776\u001b[0m     \u001b[39m\"\u001b[39m\u001b[39mtrain\u001b[39m\u001b[39m\"\u001b[39m,\n\u001b[1;32m   1777\u001b[0m     epoch_num\u001b[39m=\u001b[39mepoch,\n\u001b[0;32m   (...)\u001b[0m\n\u001b[1;32m   1780\u001b[0m     _r\u001b[39m=\u001b[39m\u001b[39m1\u001b[39m,\n\u001b[1;32m   1781\u001b[0m ):\n\u001b[1;32m   1782\u001b[0m     callbacks\u001b[39m.\u001b[39mon_train_batch_begin(step)\n\u001b[0;32m-> 1783\u001b[0m     tmp_logs \u001b[39m=\u001b[39m \u001b[39mself\u001b[39;49m\u001b[39m.\u001b[39;49mtrain_function(iterator)\n\u001b[1;32m   1784\u001b[0m     \u001b[39mif\u001b[39;00m data_handler\u001b[39m.\u001b[39mshould_sync:\n\u001b[1;32m   1785\u001b[0m         context\u001b[39m.\u001b[39masync_wait()\n",
      "File \u001b[0;32m~/.local/lib/python3.10/site-packages/tensorflow/python/util/traceback_utils.py:150\u001b[0m, in \u001b[0;36mfilter_traceback.<locals>.error_handler\u001b[0;34m(*args, **kwargs)\u001b[0m\n\u001b[1;32m    148\u001b[0m filtered_tb \u001b[39m=\u001b[39m \u001b[39mNone\u001b[39;00m\n\u001b[1;32m    149\u001b[0m \u001b[39mtry\u001b[39;00m:\n\u001b[0;32m--> 150\u001b[0m   \u001b[39mreturn\u001b[39;00m fn(\u001b[39m*\u001b[39;49margs, \u001b[39m*\u001b[39;49m\u001b[39m*\u001b[39;49mkwargs)\n\u001b[1;32m    151\u001b[0m \u001b[39mexcept\u001b[39;00m \u001b[39mException\u001b[39;00m \u001b[39mas\u001b[39;00m e:\n\u001b[1;32m    152\u001b[0m   filtered_tb \u001b[39m=\u001b[39m _process_traceback_frames(e\u001b[39m.\u001b[39m__traceback__)\n",
      "File \u001b[0;32m~/.local/lib/python3.10/site-packages/tensorflow/python/eager/polymorphic_function/polymorphic_function.py:831\u001b[0m, in \u001b[0;36mFunction.__call__\u001b[0;34m(self, *args, **kwds)\u001b[0m\n\u001b[1;32m    828\u001b[0m compiler \u001b[39m=\u001b[39m \u001b[39m\"\u001b[39m\u001b[39mxla\u001b[39m\u001b[39m\"\u001b[39m \u001b[39mif\u001b[39;00m \u001b[39mself\u001b[39m\u001b[39m.\u001b[39m_jit_compile \u001b[39melse\u001b[39;00m \u001b[39m\"\u001b[39m\u001b[39mnonXla\u001b[39m\u001b[39m\"\u001b[39m\n\u001b[1;32m    830\u001b[0m \u001b[39mwith\u001b[39;00m OptionalXlaContext(\u001b[39mself\u001b[39m\u001b[39m.\u001b[39m_jit_compile):\n\u001b[0;32m--> 831\u001b[0m   result \u001b[39m=\u001b[39m \u001b[39mself\u001b[39;49m\u001b[39m.\u001b[39;49m_call(\u001b[39m*\u001b[39;49margs, \u001b[39m*\u001b[39;49m\u001b[39m*\u001b[39;49mkwds)\n\u001b[1;32m    833\u001b[0m new_tracing_count \u001b[39m=\u001b[39m \u001b[39mself\u001b[39m\u001b[39m.\u001b[39mexperimental_get_tracing_count()\n\u001b[1;32m    834\u001b[0m without_tracing \u001b[39m=\u001b[39m (tracing_count \u001b[39m==\u001b[39m new_tracing_count)\n",
      "File \u001b[0;32m~/.local/lib/python3.10/site-packages/tensorflow/python/eager/polymorphic_function/polymorphic_function.py:867\u001b[0m, in \u001b[0;36mFunction._call\u001b[0;34m(self, *args, **kwds)\u001b[0m\n\u001b[1;32m    864\u001b[0m   \u001b[39mself\u001b[39m\u001b[39m.\u001b[39m_lock\u001b[39m.\u001b[39mrelease()\n\u001b[1;32m    865\u001b[0m   \u001b[39m# In this case we have created variables on the first call, so we run the\u001b[39;00m\n\u001b[1;32m    866\u001b[0m   \u001b[39m# defunned version which is guaranteed to never create variables.\u001b[39;00m\n\u001b[0;32m--> 867\u001b[0m   \u001b[39mreturn\u001b[39;00m tracing_compilation\u001b[39m.\u001b[39;49mcall_function(\n\u001b[1;32m    868\u001b[0m       args, kwds, \u001b[39mself\u001b[39;49m\u001b[39m.\u001b[39;49m_no_variable_creation_config\n\u001b[1;32m    869\u001b[0m   )\n\u001b[1;32m    870\u001b[0m \u001b[39melif\u001b[39;00m \u001b[39mself\u001b[39m\u001b[39m.\u001b[39m_variable_creation_config \u001b[39mis\u001b[39;00m \u001b[39mnot\u001b[39;00m \u001b[39mNone\u001b[39;00m:\n\u001b[1;32m    871\u001b[0m   \u001b[39m# Release the lock early so that multiple threads can perform the call\u001b[39;00m\n\u001b[1;32m    872\u001b[0m   \u001b[39m# in parallel.\u001b[39;00m\n\u001b[1;32m    873\u001b[0m   \u001b[39mself\u001b[39m\u001b[39m.\u001b[39m_lock\u001b[39m.\u001b[39mrelease()\n",
      "File \u001b[0;32m~/.local/lib/python3.10/site-packages/tensorflow/python/eager/polymorphic_function/tracing_compilation.py:139\u001b[0m, in \u001b[0;36mcall_function\u001b[0;34m(args, kwargs, tracing_options)\u001b[0m\n\u001b[1;32m    137\u001b[0m bound_args \u001b[39m=\u001b[39m function\u001b[39m.\u001b[39mfunction_type\u001b[39m.\u001b[39mbind(\u001b[39m*\u001b[39margs, \u001b[39m*\u001b[39m\u001b[39m*\u001b[39mkwargs)\n\u001b[1;32m    138\u001b[0m flat_inputs \u001b[39m=\u001b[39m function\u001b[39m.\u001b[39mfunction_type\u001b[39m.\u001b[39munpack_inputs(bound_args)\n\u001b[0;32m--> 139\u001b[0m \u001b[39mreturn\u001b[39;00m function\u001b[39m.\u001b[39;49m_call_flat(  \u001b[39m# pylint: disable=protected-access\u001b[39;49;00m\n\u001b[1;32m    140\u001b[0m     flat_inputs, captured_inputs\u001b[39m=\u001b[39;49mfunction\u001b[39m.\u001b[39;49mcaptured_inputs\n\u001b[1;32m    141\u001b[0m )\n",
      "File \u001b[0;32m~/.local/lib/python3.10/site-packages/tensorflow/python/eager/polymorphic_function/concrete_function.py:1264\u001b[0m, in \u001b[0;36mConcreteFunction._call_flat\u001b[0;34m(self, tensor_inputs, captured_inputs)\u001b[0m\n\u001b[1;32m   1260\u001b[0m possible_gradient_type \u001b[39m=\u001b[39m gradients_util\u001b[39m.\u001b[39mPossibleTapeGradientTypes(args)\n\u001b[1;32m   1261\u001b[0m \u001b[39mif\u001b[39;00m (possible_gradient_type \u001b[39m==\u001b[39m gradients_util\u001b[39m.\u001b[39mPOSSIBLE_GRADIENT_TYPES_NONE\n\u001b[1;32m   1262\u001b[0m     \u001b[39mand\u001b[39;00m executing_eagerly):\n\u001b[1;32m   1263\u001b[0m   \u001b[39m# No tape is watching; skip to running the function.\u001b[39;00m\n\u001b[0;32m-> 1264\u001b[0m   \u001b[39mreturn\u001b[39;00m \u001b[39mself\u001b[39;49m\u001b[39m.\u001b[39;49m_inference_function\u001b[39m.\u001b[39;49mflat_call(args)\n\u001b[1;32m   1265\u001b[0m forward_backward \u001b[39m=\u001b[39m \u001b[39mself\u001b[39m\u001b[39m.\u001b[39m_select_forward_and_backward_functions(\n\u001b[1;32m   1266\u001b[0m     args,\n\u001b[1;32m   1267\u001b[0m     possible_gradient_type,\n\u001b[1;32m   1268\u001b[0m     executing_eagerly)\n\u001b[1;32m   1269\u001b[0m forward_function, args_with_tangents \u001b[39m=\u001b[39m forward_backward\u001b[39m.\u001b[39mforward()\n",
      "File \u001b[0;32m~/.local/lib/python3.10/site-packages/tensorflow/python/eager/polymorphic_function/atomic_function.py:217\u001b[0m, in \u001b[0;36mAtomicFunction.flat_call\u001b[0;34m(self, args)\u001b[0m\n\u001b[1;32m    215\u001b[0m \u001b[39mdef\u001b[39;00m \u001b[39mflat_call\u001b[39m(\u001b[39mself\u001b[39m, args: Sequence[core\u001b[39m.\u001b[39mTensor]) \u001b[39m-\u001b[39m\u001b[39m>\u001b[39m Any:\n\u001b[1;32m    216\u001b[0m   \u001b[39m\"\"\"Calls with tensor inputs and returns the structured output.\"\"\"\u001b[39;00m\n\u001b[0;32m--> 217\u001b[0m   flat_outputs \u001b[39m=\u001b[39m \u001b[39mself\u001b[39;49m(\u001b[39m*\u001b[39;49margs)\n\u001b[1;32m    218\u001b[0m   \u001b[39mreturn\u001b[39;00m \u001b[39mself\u001b[39m\u001b[39m.\u001b[39mfunction_type\u001b[39m.\u001b[39mpack_output(flat_outputs)\n",
      "File \u001b[0;32m~/.local/lib/python3.10/site-packages/tensorflow/python/eager/polymorphic_function/atomic_function.py:252\u001b[0m, in \u001b[0;36mAtomicFunction.__call__\u001b[0;34m(self, *args)\u001b[0m\n\u001b[1;32m    250\u001b[0m \u001b[39mwith\u001b[39;00m record\u001b[39m.\u001b[39mstop_recording():\n\u001b[1;32m    251\u001b[0m   \u001b[39mif\u001b[39;00m \u001b[39mself\u001b[39m\u001b[39m.\u001b[39m_bound_context\u001b[39m.\u001b[39mexecuting_eagerly():\n\u001b[0;32m--> 252\u001b[0m     outputs \u001b[39m=\u001b[39m \u001b[39mself\u001b[39;49m\u001b[39m.\u001b[39;49m_bound_context\u001b[39m.\u001b[39;49mcall_function(\n\u001b[1;32m    253\u001b[0m         \u001b[39mself\u001b[39;49m\u001b[39m.\u001b[39;49mname,\n\u001b[1;32m    254\u001b[0m         \u001b[39mlist\u001b[39;49m(args),\n\u001b[1;32m    255\u001b[0m         \u001b[39mlen\u001b[39;49m(\u001b[39mself\u001b[39;49m\u001b[39m.\u001b[39;49mfunction_type\u001b[39m.\u001b[39;49mflat_outputs),\n\u001b[1;32m    256\u001b[0m     )\n\u001b[1;32m    257\u001b[0m   \u001b[39melse\u001b[39;00m:\n\u001b[1;32m    258\u001b[0m     outputs \u001b[39m=\u001b[39m make_call_op_in_graph(\n\u001b[1;32m    259\u001b[0m         \u001b[39mself\u001b[39m,\n\u001b[1;32m    260\u001b[0m         \u001b[39mlist\u001b[39m(args),\n\u001b[1;32m    261\u001b[0m         \u001b[39mself\u001b[39m\u001b[39m.\u001b[39m_bound_context\u001b[39m.\u001b[39mfunction_call_options\u001b[39m.\u001b[39mas_attrs(),\n\u001b[1;32m    262\u001b[0m     )\n",
      "File \u001b[0;32m~/.local/lib/python3.10/site-packages/tensorflow/python/eager/context.py:1479\u001b[0m, in \u001b[0;36mContext.call_function\u001b[0;34m(self, name, tensor_inputs, num_outputs)\u001b[0m\n\u001b[1;32m   1477\u001b[0m cancellation_context \u001b[39m=\u001b[39m cancellation\u001b[39m.\u001b[39mcontext()\n\u001b[1;32m   1478\u001b[0m \u001b[39mif\u001b[39;00m cancellation_context \u001b[39mis\u001b[39;00m \u001b[39mNone\u001b[39;00m:\n\u001b[0;32m-> 1479\u001b[0m   outputs \u001b[39m=\u001b[39m execute\u001b[39m.\u001b[39;49mexecute(\n\u001b[1;32m   1480\u001b[0m       name\u001b[39m.\u001b[39;49mdecode(\u001b[39m\"\u001b[39;49m\u001b[39mutf-8\u001b[39;49m\u001b[39m\"\u001b[39;49m),\n\u001b[1;32m   1481\u001b[0m       num_outputs\u001b[39m=\u001b[39;49mnum_outputs,\n\u001b[1;32m   1482\u001b[0m       inputs\u001b[39m=\u001b[39;49mtensor_inputs,\n\u001b[1;32m   1483\u001b[0m       attrs\u001b[39m=\u001b[39;49mattrs,\n\u001b[1;32m   1484\u001b[0m       ctx\u001b[39m=\u001b[39;49m\u001b[39mself\u001b[39;49m,\n\u001b[1;32m   1485\u001b[0m   )\n\u001b[1;32m   1486\u001b[0m \u001b[39melse\u001b[39;00m:\n\u001b[1;32m   1487\u001b[0m   outputs \u001b[39m=\u001b[39m execute\u001b[39m.\u001b[39mexecute_with_cancellation(\n\u001b[1;32m   1488\u001b[0m       name\u001b[39m.\u001b[39mdecode(\u001b[39m\"\u001b[39m\u001b[39mutf-8\u001b[39m\u001b[39m\"\u001b[39m),\n\u001b[1;32m   1489\u001b[0m       num_outputs\u001b[39m=\u001b[39mnum_outputs,\n\u001b[0;32m   (...)\u001b[0m\n\u001b[1;32m   1493\u001b[0m       cancellation_manager\u001b[39m=\u001b[39mcancellation_context,\n\u001b[1;32m   1494\u001b[0m   )\n",
      "File \u001b[0;32m~/.local/lib/python3.10/site-packages/tensorflow/python/eager/execute.py:60\u001b[0m, in \u001b[0;36mquick_execute\u001b[0;34m(op_name, num_outputs, inputs, attrs, ctx, name)\u001b[0m\n\u001b[1;32m     53\u001b[0m   \u001b[39m# Convert any objects of type core_types.Tensor to Tensor.\u001b[39;00m\n\u001b[1;32m     54\u001b[0m   inputs \u001b[39m=\u001b[39m [\n\u001b[1;32m     55\u001b[0m       tensor_conversion_registry\u001b[39m.\u001b[39mconvert(t)\n\u001b[1;32m     56\u001b[0m       \u001b[39mif\u001b[39;00m \u001b[39misinstance\u001b[39m(t, core_types\u001b[39m.\u001b[39mTensor)\n\u001b[1;32m     57\u001b[0m       \u001b[39melse\u001b[39;00m t\n\u001b[1;32m     58\u001b[0m       \u001b[39mfor\u001b[39;00m t \u001b[39min\u001b[39;00m inputs\n\u001b[1;32m     59\u001b[0m   ]\n\u001b[0;32m---> 60\u001b[0m   tensors \u001b[39m=\u001b[39m pywrap_tfe\u001b[39m.\u001b[39;49mTFE_Py_Execute(ctx\u001b[39m.\u001b[39;49m_handle, device_name, op_name,\n\u001b[1;32m     61\u001b[0m                                       inputs, attrs, num_outputs)\n\u001b[1;32m     62\u001b[0m \u001b[39mexcept\u001b[39;00m core\u001b[39m.\u001b[39m_NotOkStatusException \u001b[39mas\u001b[39;00m e:\n\u001b[1;32m     63\u001b[0m   \u001b[39mif\u001b[39;00m name \u001b[39mis\u001b[39;00m \u001b[39mnot\u001b[39;00m \u001b[39mNone\u001b[39;00m:\n",
      "\u001b[0;31mKeyboardInterrupt\u001b[0m: "
     ]
    }
   ],
   "source": [
    "# Random optimization\n",
    "optimal_params, optimal_loss = tune_hyperparameters(\n",
    "    X_c_train,\n",
    "    X_j_train,\n",
    "    Conv2DTranscoder,\n",
    "    default_params,\n",
    "    keys,\n",
    "    vals,\n",
    "    loss_key,\n",
    "    X_val=X_c_val,\n",
    "    y_val=X_j_val,\n",
    "    results_path=results_path,\n",
    "    epochs=epochs,\n",
    "    verbose=False,\n",
    "    do_random=True,\n",
    "    random_attempts=25,\n",
    ")"
   ]
  },
  {
   "cell_type": "code",
   "execution_count": null,
   "metadata": {},
   "outputs": [],
   "source": [
    "print(f\"{optimal_params = }\")\n",
    "print(f\"{optimal_loss = }\")"
   ]
  },
  {
   "cell_type": "code",
   "execution_count": null,
   "metadata": {},
   "outputs": [],
   "source": [
    "# Sequential optimization\n",
    "for i in range(passes):\n",
    "    # Random optimization\n",
    "    permutation = np.random.permutation(len(keys))\n",
    "    optimal_params, optimal_loss = tune_hyperparameters(\n",
    "        X_c_train,\n",
    "        X_j_train,\n",
    "        Conv2DTranscoder,\n",
    "        default_params,\n",
    "        keys,\n",
    "        vals,\n",
    "        loss_key,\n",
    "        X_val=X_c_val,\n",
    "        y_val=X_j_val,\n",
    "        results_path=results_path,\n",
    "        epochs=epochs,\n",
    "        verbose=False,\n",
    "        do_random=False,\n",
    "    )"
   ]
  },
  {
   "cell_type": "code",
   "execution_count": null,
   "metadata": {},
   "outputs": [],
   "source": [
    "print(f\"{optimal_params = }\")\n",
    "print(f\"{optimal_loss = }\")"
   ]
  },
  {
   "cell_type": "code",
   "execution_count": null,
   "metadata": {},
   "outputs": [],
   "source": [
    "# Load optimal hyperparameters from tuning process\n",
    "optimal_params, optimal_loss = load_optimal_params(results_path, loss_key)"
   ]
  },
  {
   "cell_type": "code",
   "execution_count": null,
   "metadata": {},
   "outputs": [],
   "source": [
    "print(f\"{optimal_params = }\")\n",
    "print(f\"{optimal_loss = }\")"
   ]
  },
  {
   "cell_type": "code",
   "execution_count": null,
   "metadata": {},
   "outputs": [],
   "source": [
    "# Retrain with optimal params\n",
    "autoencoder = Conv2DAutoencoder(**optimal_params)\n",
    "autoencoder.compile(**compile_kwargs)\n",
    "earlystopping = krs.callbacks.EarlyStopping(monitor=loss_key, patience=5, min_delta=1e-6)\n",
    "history = autoencoder.fit(X_train, X_train, epochs=250, shuffle=True, validation_data=(X_val, X_val), callbacks=[earlystopping], verbose=1)"
   ]
  },
  {
   "cell_type": "code",
   "execution_count": null,
   "metadata": {},
   "outputs": [],
   "source": [
    "# Test transcoder"
   ]
  },
  {
   "cell_type": "code",
   "execution_count": null,
   "metadata": {},
   "outputs": [],
   "source": []
  },
  {
   "cell_type": "markdown",
   "metadata": {},
   "source": [
    "### Variational Style Transfer"
   ]
  },
  {
   "cell_type": "code",
   "execution_count": 50,
   "metadata": {},
   "outputs": [],
   "source": [
    "from models.transcoders import VariationalTranscoder"
   ]
  },
  {
   "cell_type": "code",
   "execution_count": 62,
   "metadata": {},
   "outputs": [],
   "source": [
    "default_params = {\n",
    "    \"feature_shape\": input_shape,\n",
    "    \"compression\": 8,\n",
    "    \"kernel_size\": 3,\n",
    "    \"conv_depth\": 1,\n",
    "    \"input_chans_multiplier\": 1,\n",
    "    \"skip_connection\": False,\n",
    "    \"pooling_type\": \"average\",\n",
    "    \"h_reg\": 1e-3,\n",
    "    \"kl_reg\": 1e-6,\n",
    "}"
   ]
  },
  {
   "cell_type": "code",
   "execution_count": 63,
   "metadata": {},
   "outputs": [
    {
     "name": "stdout",
     "output_type": "stream",
     "text": [
      "Epoch 1/5\n",
      "11/11 [==============================] - 12s 322ms/step - loss: 177645.4844 - r_loss: 177645.4844 - h_loss: 1149624.1250 - kl_loss: 127468.0312 - val_loss: 27530.0078 - val_r_loss: 27530.0078 - val_h_loss: 153375.7344 - val_kl_loss: 10682.9785\n",
      "Epoch 2/5\n",
      "11/11 [==============================] - 2s 181ms/step - loss: 70888.2969 - r_loss: 70888.2969 - h_loss: 322957.5625 - kl_loss: 63222.3398 - val_loss: 3488.0010 - val_r_loss: 3488.0010 - val_h_loss: 16368.5859 - val_kl_loss: 833.6479\n",
      "Epoch 3/5\n",
      "11/11 [==============================] - 2s 167ms/step - loss: 41185.6602 - r_loss: 41185.6602 - h_loss: 158531.1094 - kl_loss: 43095.9648 - val_loss: 593.7347 - val_r_loss: 593.7347 - val_h_loss: 1932.6896 - val_kl_loss: 362.2979\n",
      "Epoch 4/5\n",
      "11/11 [==============================] - 2s 163ms/step - loss: 21840.0234 - r_loss: 21840.0234 - h_loss: 87200.8672 - kl_loss: 39290.6211 - val_loss: 472.9099 - val_r_loss: 472.9099 - val_h_loss: 1670.4919 - val_kl_loss: 301.7482\n",
      "Epoch 5/5\n",
      "11/11 [==============================] - 2s 165ms/step - loss: 25291.8945 - r_loss: 25291.8945 - h_loss: 77537.2422 - kl_loss: 29856.5918 - val_loss: 576.7673 - val_r_loss: 576.7673 - val_h_loss: 2213.7480 - val_kl_loss: 227.3790\n"
     ]
    }
   ],
   "source": [
    "# Test training\n",
    "transcoder = VariationalTranscoder(**default_params)\n",
    "transcoder.compile(optimizer=\"adam\")\n",
    "history = transcoder.fit(X_c_train, X_j_train, epochs=5, shuffle=True, validation_data=(X_c_val, X_j_val), verbose=1)"
   ]
  },
  {
   "cell_type": "code",
   "execution_count": null,
   "metadata": {},
   "outputs": [],
   "source": [
    "# Hyperparameter tuning\n",
    "results_path = os.path.join(\"./results/VariationalTranscoder\")\n",
    "os.makedirs(results_path, exist_ok=True)\n",
    "keys = np.array([\n",
    "    \"input_chans_multiplier\",\n",
    "    \"conv_depth\",\n",
    "    \"kernel_size\",\n",
    "    \"pooling_type\",\n",
    "    \"h_reg\",\n",
    "    \"kl_reg\",\n",
    "])\n",
    "vals = np.array([\n",
    "    [1, 2, 4],\n",
    "    [1, 2, 3],\n",
    "    [3, 5],\n",
    "    [\"max\", \"average\"],\n",
    "    [1, 1e-1, 1e-2, 1e-3],\n",
    "    [1e-4, 1e-5, 1e-6, 1e-7, 1e-8],\n",
    "], dtype=\"object\")\n",
    "loss_key = \"val_r_loss\"\n",
    "epochs = 250\n",
    "passes = 1"
   ]
  },
  {
   "cell_type": "code",
   "execution_count": null,
   "metadata": {},
   "outputs": [],
   "source": [
    "# Random optimization\n",
    "optimal_params, optimal_loss = tune_hyperparameters(\n",
    "    X_c_train,\n",
    "    X_j_train,\n",
    "    VariationalTranscoder,\n",
    "    default_params,\n",
    "    keys,\n",
    "    vals,\n",
    "    loss_key,\n",
    "    X_val=X_c_val,\n",
    "    y_val=X_j_val,\n",
    "    results_path=results_path,\n",
    "    epochs=epochs,\n",
    "    verbose=False,\n",
    "    do_random=True,\n",
    "    random_attempts=25,\n",
    ")"
   ]
  },
  {
   "cell_type": "code",
   "execution_count": null,
   "metadata": {},
   "outputs": [],
   "source": [
    "print(f\"{optimal_params = }\")\n",
    "print(f\"{optimal_loss = }\")"
   ]
  },
  {
   "cell_type": "code",
   "execution_count": null,
   "metadata": {},
   "outputs": [],
   "source": [
    "# Sequential optimization\n",
    "for i in range(passes):\n",
    "    # Random optimization\n",
    "    permutation = np.random.permutation(len(keys))\n",
    "    optimal_params, optimal_loss = tune_hyperparameters(\n",
    "        X_c_train,\n",
    "        X_j_train,\n",
    "        VariationalTranscoder,\n",
    "        default_params,\n",
    "        keys,\n",
    "        vals,\n",
    "        loss_key,\n",
    "        X_val=X_c_val,\n",
    "        y_val=X_j_val,\n",
    "        results_path=results_path,\n",
    "        epochs=epochs,\n",
    "        verbose=False,\n",
    "        do_random=False,\n",
    "    )"
   ]
  },
  {
   "cell_type": "code",
   "execution_count": null,
   "metadata": {},
   "outputs": [],
   "source": [
    "print(f\"{optimal_params = }\")\n",
    "print(f\"{optimal_loss = }\")"
   ]
  },
  {
   "cell_type": "code",
   "execution_count": null,
   "metadata": {},
   "outputs": [],
   "source": [
    "# Load optimal hyperparameters from tuning process\n",
    "optimal_params, optimal_loss = load_optimal_params(results_path, loss_key)"
   ]
  },
  {
   "cell_type": "code",
   "execution_count": null,
   "metadata": {},
   "outputs": [],
   "source": [
    "print(f\"{optimal_params = }\")\n",
    "print(f\"{optimal_loss = }\")"
   ]
  },
  {
   "cell_type": "code",
   "execution_count": null,
   "metadata": {},
   "outputs": [],
   "source": [
    "# Retrain with optimal params\n",
    "autoencoder = Conv2DAutoencoder(**optimal_params)\n",
    "autoencoder.compile(**compile_kwargs)\n",
    "earlystopping = krs.callbacks.EarlyStopping(monitor=loss_key, patience=5, min_delta=1e-6)\n",
    "history = autoencoder.fit(X_train, X_train, epochs=250, shuffle=True, validation_data=(X_val, X_val), callbacks=[earlystopping], verbose=1)"
   ]
  },
  {
   "cell_type": "code",
   "execution_count": null,
   "metadata": {},
   "outputs": [],
   "source": [
    "# Test transcoder"
   ]
  },
  {
   "cell_type": "code",
   "execution_count": null,
   "metadata": {},
   "outputs": [],
   "source": []
  },
  {
   "cell_type": "markdown",
   "metadata": {},
   "source": [
    "### GAN Style Transfer"
   ]
  },
  {
   "cell_type": "code",
   "execution_count": 64,
   "metadata": {},
   "outputs": [],
   "source": [
    "from models.transcoders import GANTranscoder, GANDiscriminators\n",
    "from models.layers import GAN"
   ]
  },
  {
   "cell_type": "code",
   "execution_count": 65,
   "metadata": {},
   "outputs": [],
   "source": [
    "def create_gan_model(**params):\n",
    "    # Split generator & discriminator params\n",
    "    g_params = {}\n",
    "    d_params = {}\n",
    "    for key, value in params.items():\n",
    "        if key[:2] == \"g_\":\n",
    "            # Generator param\n",
    "            g_params[key[2:]] = value\n",
    "        elif key[:2] == \"d_\":\n",
    "            # Discriminator param\n",
    "            d_params[key[2:]] = value\n",
    "        else:\n",
    "            # Shared param\n",
    "            g_params[key] = value\n",
    "            d_params[key] = value\n",
    "    \n",
    "    generator = GANTranscoder(**g_params)\n",
    "    discriminator = GANDiscriminators(**d_params)\n",
    "    gan = GAN(generator, discriminator)\n",
    "    return gan"
   ]
  },
  {
   "cell_type": "code",
   "execution_count": 66,
   "metadata": {},
   "outputs": [],
   "source": [
    "default_params = {\n",
    "    \"feature_shape\": input_shape,\n",
    "    \"g_compression\": 8,\n",
    "    \"g_kernel_size\": 3,\n",
    "    \"g_conv_depth\": 1,\n",
    "    \"g_input_chans_multiplier\": 1,\n",
    "    \"g_skip_connection\": False,\n",
    "    \"g_pooling_type\": \"average\",\n",
    "    \"g_gan_reg\": 0.1,\n",
    "    \"g_c_reg\": 0.1,\n",
    "    \"g_s_reg\": 0.1,\n",
    "    \"d_mlp_layers\": 2,\n",
    "    \"d_conv_compression\": 8,\n",
    "    \"d_conv_kernel_size\": 3,\n",
    "    \"d_conv_pooling_type\": \"max\",\n",
    "}\n",
    "\n",
    "compile_kwargs={\n",
    "    \"g_optimizer\": \"adam\",\n",
    "    \"d_optimizer\": \"adam\",\n",
    "}"
   ]
  },
  {
   "cell_type": "code",
   "execution_count": 71,
   "metadata": {},
   "outputs": [
    {
     "name": "stdout",
     "output_type": "stream",
     "text": [
      "11/11 [==============================] - 15s 480ms/step - loss: 0.4439 - r_loss: 0.2347 - gan_loss: 1.2818 - c_loss: 0.0095 - s_loss: 0.8003 - d_loss: 0.8201 - val_loss: 0.4992 - val_r_loss: 0.2401 - val_gan_loss: 1.7821 - val_c_loss: 0.0066 - val_s_loss: 0.8020 - val_d_loss: 0.4678\n"
     ]
    }
   ],
   "source": [
    "# Test training\n",
    "gan = create_gan_model(**default_params)\n",
    "gan.compile(**compile_kwargs)\n",
    "history = gan.fit(X_c_train, X_j_train, epochs=1, shuffle=True, verbose=1, validation_data=(X_c_val, X_j_val))"
   ]
  },
  {
   "cell_type": "code",
   "execution_count": 72,
   "metadata": {},
   "outputs": [],
   "source": [
    "# Hyperparameter tuning\n",
    "results_path = os.path.join(\"./results/GANTranscoder\")\n",
    "os.makedirs(results_path, exist_ok=True)\n",
    "keys = np.array([\n",
    "    \"g_gan_reg\",\n",
    "    \"g_c_reg\",\n",
    "    \"g_s_reg\",\n",
    "    \"g_input_chans_multiplier\",\n",
    "    \"g_conv_depth\",\n",
    "    \"g_kernel_size\",\n",
    "    \"g_pooling_type\",\n",
    "])\n",
    "vals = np.array([\n",
    "    [1, 1e-1, 1e-2, 1e-3, 1e-4, 1e-5],\n",
    "    [1, 1e-1, 1e-2, 1e-3, 1e-4, 1e-5],\n",
    "    [1, 1e-1, 1e-2, 1e-3, 1e-4, 1e-5],\n",
    "    [1, 2, 4],\n",
    "    [1, 2, 3],\n",
    "    [3, 5],\n",
    "    [\"max\", \"average\"],\n",
    "], dtype=\"object\")\n",
    "loss_key=\"val_r_loss\"\n",
    "epochs = 250\n",
    "passes = 1\n",
    "optimal_params = default_params.copy()"
   ]
  },
  {
   "cell_type": "code",
   "execution_count": null,
   "metadata": {},
   "outputs": [],
   "source": [
    "# Random optimization\n",
    "optimal_params, optimal_loss = tune_hyperparameters(\n",
    "    X_c_train,\n",
    "    X_j_train,\n",
    "    create_gan_model,\n",
    "    default_params,\n",
    "    keys,\n",
    "    vals,\n",
    "    loss_key,\n",
    "    X_val=X_c_val,\n",
    "    y_val=X_j_val,\n",
    "    results_path=results_path,\n",
    "    epochs=epochs,\n",
    "    verbose=False,\n",
    "    do_random=True,\n",
    "    random_attempts=25,\n",
    "    compile_kwargs=compile_kwargs,\n",
    ")"
   ]
  },
  {
   "cell_type": "code",
   "execution_count": null,
   "metadata": {},
   "outputs": [],
   "source": [
    "print(f\"{optimal_params = }\")\n",
    "print(f\"{optimal_loss = }\")"
   ]
  },
  {
   "cell_type": "code",
   "execution_count": null,
   "metadata": {},
   "outputs": [],
   "source": [
    "# Sequential optimization\n",
    "for i in range(passes):\n",
    "    # Random optimization\n",
    "    permutation = np.random.permutation(len(keys))\n",
    "    optimal_params, optimal_loss = tune_hyperparameters(\n",
    "        X_c_train,\n",
    "        X_j_train,\n",
    "        create_gan_model,\n",
    "        default_params,\n",
    "        keys,\n",
    "        vals,\n",
    "        loss_key,\n",
    "        X_val=X_c_val,\n",
    "        y_val=X_j_val,\n",
    "        results_path=results_path,\n",
    "        epochs=epochs,\n",
    "        verbose=False,\n",
    "        do_random=False,\n",
    "        compile_kwargs=compile_kwargs,\n",
    "    )"
   ]
  },
  {
   "cell_type": "code",
   "execution_count": null,
   "metadata": {},
   "outputs": [],
   "source": [
    "print(f\"{optimal_params = }\")\n",
    "print(f\"{optimal_loss = }\")"
   ]
  },
  {
   "cell_type": "code",
   "execution_count": null,
   "metadata": {},
   "outputs": [],
   "source": [
    "# Load optimal hyperparameters from tuning process\n",
    "optimal_params, optimal_loss = load_optimal_params(results_path, loss_key)"
   ]
  },
  {
   "cell_type": "code",
   "execution_count": null,
   "metadata": {},
   "outputs": [],
   "source": [
    "print(f\"{optimal_params = }\")\n",
    "print(f\"{optimal_loss = }\")"
   ]
  },
  {
   "cell_type": "code",
   "execution_count": null,
   "metadata": {},
   "outputs": [],
   "source": [
    "# Retrain with optimal params\n",
    "gan = create_gan_model(**optimal_params)\n",
    "gan.compile(**compile_kwargs)\n",
    "earlystopping = krs.callbacks.EarlyStopping(monitor=loss_key, patience=5, min_delta=1e-6)\n",
    "history = gan.fit(X_train, X_train, epochs=250, shuffle=True, validation_data=(X_val, X_val), callbacks=[earlystopping], verbose=1)"
   ]
  },
  {
   "cell_type": "code",
   "execution_count": null,
   "metadata": {},
   "outputs": [],
   "source": []
  }
 ],
 "metadata": {
  "kernelspec": {
   "display_name": "Python 3",
   "language": "python",
   "name": "python3"
  },
  "language_info": {
   "codemirror_mode": {
    "name": "ipython",
    "version": 3
   },
   "file_extension": ".py",
   "mimetype": "text/x-python",
   "name": "python",
   "nbconvert_exporter": "python",
   "pygments_lexer": "ipython3",
   "version": "3.10.12"
  },
  "orig_nbformat": 4
 },
 "nbformat": 4,
 "nbformat_minor": 2
}
